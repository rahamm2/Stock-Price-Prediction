{
 "cells": [
  {
   "cell_type": "code",
   "execution_count": 1,
   "metadata": {
    "id": "9beIsAj_y0Si"
   },
   "outputs": [],
   "source": [
    "## Importing necessary Library\n",
    "import numpy as np\n",
    "import matplotlib.pyplot as plt\n",
    "import pandas as pd"
   ]
  },
  {
   "cell_type": "code",
   "execution_count": 2,
   "metadata": {
    "id": "hnx4JQ0K1ojw"
   },
   "outputs": [],
   "source": [
    "## Importinng the dataset\n",
    "data=pd.read_csv(\"ABC_Stock1.csv\")"
   ]
  },
  {
   "cell_type": "code",
   "execution_count": 3,
   "metadata": {
    "colab": {
     "base_uri": "https://localhost:8080/",
     "height": 359
    },
    "id": "1WhUUWir2U9W",
    "outputId": "690cf9a5-5442-45dc-abd2-44efc92cc8eb"
   },
   "outputs": [
    {
     "data": {
      "text/html": [
       "<div>\n",
       "<style scoped>\n",
       "    .dataframe tbody tr th:only-of-type {\n",
       "        vertical-align: middle;\n",
       "    }\n",
       "\n",
       "    .dataframe tbody tr th {\n",
       "        vertical-align: top;\n",
       "    }\n",
       "\n",
       "    .dataframe thead th {\n",
       "        text-align: right;\n",
       "    }\n",
       "</style>\n",
       "<table border=\"1\" class=\"dataframe\">\n",
       "  <thead>\n",
       "    <tr style=\"text-align: right;\">\n",
       "      <th></th>\n",
       "      <th>Date</th>\n",
       "      <th>Open</th>\n",
       "      <th>High</th>\n",
       "      <th>Low</th>\n",
       "      <th>Close</th>\n",
       "      <th>Adj Close</th>\n",
       "      <th>Volume</th>\n",
       "    </tr>\n",
       "  </thead>\n",
       "  <tbody>\n",
       "    <tr>\n",
       "      <th>0</th>\n",
       "      <td>2009-12-01</td>\n",
       "      <td>1.502857</td>\n",
       "      <td>1.560714</td>\n",
       "      <td>1.500000</td>\n",
       "      <td>1.550714</td>\n",
       "      <td>1.034021</td>\n",
       "      <td>90384000</td>\n",
       "    </tr>\n",
       "    <tr>\n",
       "      <th>1</th>\n",
       "      <td>2009-12-02</td>\n",
       "      <td>NaN</td>\n",
       "      <td>1.564286</td>\n",
       "      <td>1.529286</td>\n",
       "      <td>1.538571</td>\n",
       "      <td>1.025924</td>\n",
       "      <td>51324000</td>\n",
       "    </tr>\n",
       "    <tr>\n",
       "      <th>2</th>\n",
       "      <td>2009-12-03</td>\n",
       "      <td>NaN</td>\n",
       "      <td>1.560000</td>\n",
       "      <td>1.497143</td>\n",
       "      <td>1.502143</td>\n",
       "      <td>1.001633</td>\n",
       "      <td>47824000</td>\n",
       "    </tr>\n",
       "    <tr>\n",
       "      <th>3</th>\n",
       "      <td>2009-12-04</td>\n",
       "      <td>1.495714</td>\n",
       "      <td>1.512143</td>\n",
       "      <td>1.483571</td>\n",
       "      <td>1.510714</td>\n",
       "      <td>1.007349</td>\n",
       "      <td>44485000</td>\n",
       "    </tr>\n",
       "    <tr>\n",
       "      <th>4</th>\n",
       "      <td>2009-12-05</td>\n",
       "      <td>1.492857</td>\n",
       "      <td>1.510714</td>\n",
       "      <td>1.480714</td>\n",
       "      <td>1.489286</td>\n",
       "      <td>0.993060</td>\n",
       "      <td>46544400</td>\n",
       "    </tr>\n",
       "    <tr>\n",
       "      <th>5</th>\n",
       "      <td>2009-12-06</td>\n",
       "      <td>1.484286</td>\n",
       "      <td>1.505714</td>\n",
       "      <td>1.457857</td>\n",
       "      <td>1.503571</td>\n",
       "      <td>1.002586</td>\n",
       "      <td>37059400</td>\n",
       "    </tr>\n",
       "    <tr>\n",
       "      <th>6</th>\n",
       "      <td>2009-12-07</td>\n",
       "      <td>NaN</td>\n",
       "      <td>1.517857</td>\n",
       "      <td>1.457143</td>\n",
       "      <td>1.460714</td>\n",
       "      <td>0.974009</td>\n",
       "      <td>33786200</td>\n",
       "    </tr>\n",
       "    <tr>\n",
       "      <th>7</th>\n",
       "      <td>2009-12-08</td>\n",
       "      <td>1.460714</td>\n",
       "      <td>1.472143</td>\n",
       "      <td>1.425714</td>\n",
       "      <td>1.455714</td>\n",
       "      <td>0.970675</td>\n",
       "      <td>67834200</td>\n",
       "    </tr>\n",
       "    <tr>\n",
       "      <th>8</th>\n",
       "      <td>2009-12-09</td>\n",
       "      <td>1.446429</td>\n",
       "      <td>1.524286</td>\n",
       "      <td>1.443571</td>\n",
       "      <td>1.515000</td>\n",
       "      <td>1.010206</td>\n",
       "      <td>45784200</td>\n",
       "    </tr>\n",
       "    <tr>\n",
       "      <th>9</th>\n",
       "      <td>2009-12-10</td>\n",
       "      <td>1.522857</td>\n",
       "      <td>1.522857</td>\n",
       "      <td>1.478571</td>\n",
       "      <td>1.492143</td>\n",
       "      <td>0.994965</td>\n",
       "      <td>48168400</td>\n",
       "    </tr>\n",
       "  </tbody>\n",
       "</table>\n",
       "</div>"
      ],
      "text/plain": [
       "         Date      Open      High       Low     Close  Adj Close    Volume\n",
       "0  2009-12-01  1.502857  1.560714  1.500000  1.550714   1.034021  90384000\n",
       "1  2009-12-02       NaN  1.564286  1.529286  1.538571   1.025924  51324000\n",
       "2  2009-12-03       NaN  1.560000  1.497143  1.502143   1.001633  47824000\n",
       "3  2009-12-04  1.495714  1.512143  1.483571  1.510714   1.007349  44485000\n",
       "4  2009-12-05  1.492857  1.510714  1.480714  1.489286   0.993060  46544400\n",
       "5  2009-12-06  1.484286  1.505714  1.457857  1.503571   1.002586  37059400\n",
       "6  2009-12-07       NaN  1.517857  1.457143  1.460714   0.974009  33786200\n",
       "7  2009-12-08  1.460714  1.472143  1.425714  1.455714   0.970675  67834200\n",
       "8  2009-12-09  1.446429  1.524286  1.443571  1.515000   1.010206  45784200\n",
       "9  2009-12-10  1.522857  1.522857  1.478571  1.492143   0.994965  48168400"
      ]
     },
     "execution_count": 3,
     "metadata": {
      "tags": []
     },
     "output_type": "execute_result"
    }
   ],
   "source": [
    "data.head(10)"
   ]
  },
  {
   "cell_type": "code",
   "execution_count": 5,
   "metadata": {
    "id": "N4DEt4upA_34"
   },
   "outputs": [],
   "source": [
    "##Converting to the date to datetime\n",
    "data[\"Date\"]=pd.to_datetime(data[\"Date\"])"
   ]
  },
  {
   "cell_type": "code",
   "execution_count": 6,
   "metadata": {
    "colab": {
     "base_uri": "https://localhost:8080/"
    },
    "id": "6CdhjkKQ8X-h",
    "outputId": "33f3666c-07fd-4b73-ed36-d64bb8b414da"
   },
   "outputs": [
    {
     "data": {
      "text/plain": [
       "Date         datetime64[ns]\n",
       "Open                float64\n",
       "High                float64\n",
       "Low                 float64\n",
       "Close               float64\n",
       "Adj Close           float64\n",
       "Volume                int64\n",
       "dtype: object"
      ]
     },
     "execution_count": 6,
     "metadata": {
      "tags": []
     },
     "output_type": "execute_result"
    }
   ],
   "source": [
    "data.dtypes"
   ]
  },
  {
   "cell_type": "code",
   "execution_count": 7,
   "metadata": {
    "colab": {
     "base_uri": "https://localhost:8080/"
    },
    "id": "LAfkQPxg2XCh",
    "outputId": "7524a45b-c464-477e-fb8f-7cc62deb2b49"
   },
   "outputs": [
    {
     "data": {
      "text/plain": [
       "Date          0\n",
       "Open         13\n",
       "High          0\n",
       "Low           0\n",
       "Close         0\n",
       "Adj Close     0\n",
       "Volume        0\n",
       "dtype: int64"
      ]
     },
     "execution_count": 7,
     "metadata": {
      "tags": []
     },
     "output_type": "execute_result"
    }
   ],
   "source": [
    "# Checking for missing value\n",
    "data.isnull().sum()"
   ]
  },
  {
   "cell_type": "code",
   "execution_count": 8,
   "metadata": {
    "colab": {
     "base_uri": "https://localhost:8080/"
    },
    "id": "SaHZ28t0258O",
    "outputId": "6539e33a-2609-4e2f-c11b-306681d12b8e"
   },
   "outputs": [
    {
     "name": "stdout",
     "output_type": "stream",
     "text": [
      "Number of row \t 3853\n",
      "Number of columns  7\n"
     ]
    }
   ],
   "source": [
    "print(\"Number of row \\t\",data.shape[0])\n",
    "print(\"Number of columns \",data.shape[1])"
   ]
  },
  {
   "cell_type": "code",
   "execution_count": 10,
   "metadata": {
    "colab": {
     "base_uri": "https://localhost:8080/",
     "height": 419
    },
    "id": "W6LmQEL84gi1",
    "outputId": "177af1ea-4ff9-46a9-a05d-9abb2725f6ee"
   },
   "outputs": [
    {
     "data": {
      "text/html": [
       "<div>\n",
       "<style scoped>\n",
       "    .dataframe tbody tr th:only-of-type {\n",
       "        vertical-align: middle;\n",
       "    }\n",
       "\n",
       "    .dataframe tbody tr th {\n",
       "        vertical-align: top;\n",
       "    }\n",
       "\n",
       "    .dataframe thead th {\n",
       "        text-align: right;\n",
       "    }\n",
       "</style>\n",
       "<table border=\"1\" class=\"dataframe\">\n",
       "  <thead>\n",
       "    <tr style=\"text-align: right;\">\n",
       "      <th></th>\n",
       "      <th>Date</th>\n",
       "      <th>Open</th>\n",
       "      <th>High</th>\n",
       "      <th>Low</th>\n",
       "      <th>Close</th>\n",
       "      <th>Adj Close</th>\n",
       "      <th>Volume</th>\n",
       "    </tr>\n",
       "  </thead>\n",
       "  <tbody>\n",
       "    <tr>\n",
       "      <th>0</th>\n",
       "      <td>2009-12-01</td>\n",
       "      <td>1.502857</td>\n",
       "      <td>1.560714</td>\n",
       "      <td>1.500000</td>\n",
       "      <td>1.550714</td>\n",
       "      <td>1.034021</td>\n",
       "      <td>90384000</td>\n",
       "    </tr>\n",
       "    <tr>\n",
       "      <th>1</th>\n",
       "      <td>2009-12-02</td>\n",
       "      <td>1.500476</td>\n",
       "      <td>1.564286</td>\n",
       "      <td>1.529286</td>\n",
       "      <td>1.538571</td>\n",
       "      <td>1.025924</td>\n",
       "      <td>51324000</td>\n",
       "    </tr>\n",
       "    <tr>\n",
       "      <th>2</th>\n",
       "      <td>2009-12-03</td>\n",
       "      <td>1.498095</td>\n",
       "      <td>1.560000</td>\n",
       "      <td>1.497143</td>\n",
       "      <td>1.502143</td>\n",
       "      <td>1.001633</td>\n",
       "      <td>47824000</td>\n",
       "    </tr>\n",
       "    <tr>\n",
       "      <th>3</th>\n",
       "      <td>2009-12-04</td>\n",
       "      <td>1.495714</td>\n",
       "      <td>1.512143</td>\n",
       "      <td>1.483571</td>\n",
       "      <td>1.510714</td>\n",
       "      <td>1.007349</td>\n",
       "      <td>44485000</td>\n",
       "    </tr>\n",
       "    <tr>\n",
       "      <th>4</th>\n",
       "      <td>2009-12-05</td>\n",
       "      <td>1.492857</td>\n",
       "      <td>1.510714</td>\n",
       "      <td>1.480714</td>\n",
       "      <td>1.489286</td>\n",
       "      <td>0.993060</td>\n",
       "      <td>46544400</td>\n",
       "    </tr>\n",
       "    <tr>\n",
       "      <th>...</th>\n",
       "      <td>...</td>\n",
       "      <td>...</td>\n",
       "      <td>...</td>\n",
       "      <td>...</td>\n",
       "      <td>...</td>\n",
       "      <td>...</td>\n",
       "      <td>...</td>\n",
       "    </tr>\n",
       "    <tr>\n",
       "      <th>3848</th>\n",
       "      <td>2020-06-14</td>\n",
       "      <td>185.800003</td>\n",
       "      <td>188.389999</td>\n",
       "      <td>185.789993</td>\n",
       "      <td>188.020004</td>\n",
       "      <td>188.020004</td>\n",
       "      <td>26219800</td>\n",
       "    </tr>\n",
       "    <tr>\n",
       "      <th>3849</th>\n",
       "      <td>2020-06-15</td>\n",
       "      <td>188.350006</td>\n",
       "      <td>188.990005</td>\n",
       "      <td>185.919998</td>\n",
       "      <td>186.529999</td>\n",
       "      <td>186.529999</td>\n",
       "      <td>31646400</td>\n",
       "    </tr>\n",
       "    <tr>\n",
       "      <th>3850</th>\n",
       "      <td>2020-06-16</td>\n",
       "      <td>186.229996</td>\n",
       "      <td>189.490005</td>\n",
       "      <td>184.729996</td>\n",
       "      <td>188.160004</td>\n",
       "      <td>188.160004</td>\n",
       "      <td>31035200</td>\n",
       "    </tr>\n",
       "    <tr>\n",
       "      <th>3851</th>\n",
       "      <td>2020-06-17</td>\n",
       "      <td>190.020004</td>\n",
       "      <td>196.330002</td>\n",
       "      <td>189.809998</td>\n",
       "      <td>195.089996</td>\n",
       "      <td>195.089996</td>\n",
       "      <td>51034200</td>\n",
       "    </tr>\n",
       "    <tr>\n",
       "      <th>3852</th>\n",
       "      <td>2020-06-18</td>\n",
       "      <td>195.339996</td>\n",
       "      <td>197.690002</td>\n",
       "      <td>190.779999</td>\n",
       "      <td>191.050003</td>\n",
       "      <td>191.050003</td>\n",
       "      <td>42359300</td>\n",
       "    </tr>\n",
       "  </tbody>\n",
       "</table>\n",
       "<p>3853 rows × 7 columns</p>\n",
       "</div>"
      ],
      "text/plain": [
       "           Date        Open        High  ...       Close   Adj Close    Volume\n",
       "0    2009-12-01    1.502857    1.560714  ...    1.550714    1.034021  90384000\n",
       "1    2009-12-02    1.500476    1.564286  ...    1.538571    1.025924  51324000\n",
       "2    2009-12-03    1.498095    1.560000  ...    1.502143    1.001633  47824000\n",
       "3    2009-12-04    1.495714    1.512143  ...    1.510714    1.007349  44485000\n",
       "4    2009-12-05    1.492857    1.510714  ...    1.489286    0.993060  46544400\n",
       "...         ...         ...         ...  ...         ...         ...       ...\n",
       "3848 2020-06-14  185.800003  188.389999  ...  188.020004  188.020004  26219800\n",
       "3849 2020-06-15  188.350006  188.990005  ...  186.529999  186.529999  31646400\n",
       "3850 2020-06-16  186.229996  189.490005  ...  188.160004  188.160004  31035200\n",
       "3851 2020-06-17  190.020004  196.330002  ...  195.089996  195.089996  51034200\n",
       "3852 2020-06-18  195.339996  197.690002  ...  191.050003  191.050003  42359300\n",
       "\n",
       "[3853 rows x 7 columns]"
      ]
     },
     "execution_count": 10,
     "metadata": {
      "tags": []
     },
     "output_type": "execute_result"
    }
   ],
   "source": [
    "## Using the interpolate to guess the missing data\n",
    "dataset=data.interpolate()\n",
    "dataset"
   ]
  },
  {
   "cell_type": "code",
   "execution_count": 16,
   "metadata": {
    "id": "HGdLNlUd7hFp"
   },
   "outputs": [],
   "source": [
    "## Splitting dataset into testing and \n",
    "training_set = dataset.iloc[0:3793, 1:2].values\n",
    "testing_set = dataset.iloc[3793:, 1:2].values"
   ]
  },
  {
   "cell_type": "code",
   "execution_count": 17,
   "metadata": {
    "colab": {
     "base_uri": "https://localhost:8080/"
    },
    "id": "ugZ5SsKDCN6Z",
    "outputId": "07db5887-6416-49fc-c3c9-adca9aa0899c"
   },
   "outputs": [
    {
     "data": {
      "text/plain": [
       "((3793, 1), (60, 1))"
      ]
     },
     "execution_count": 17,
     "metadata": {
      "tags": []
     },
     "output_type": "execute_result"
    }
   ],
   "source": [
    "#Splitting the dataset into training and testing\n",
    "training_set.shape, testing_set.shape"
   ]
  },
  {
   "cell_type": "code",
   "execution_count": 18,
   "metadata": {
    "id": "YHA1EsMoCdS4"
   },
   "outputs": [],
   "source": [
    "##Performing Feature Scalling\n",
    "from sklearn.preprocessing import MinMaxScaler\n",
    "sc = MinMaxScaler(feature_range = (0, 1))\n",
    "training_set_scaled = sc.fit_transform(training_set)"
   ]
  },
  {
   "cell_type": "code",
   "execution_count": 19,
   "metadata": {
    "id": "lgcgQlr0DO4c"
   },
   "outputs": [],
   "source": [
    "##Creating a data structure with 60 timesteps and 1 output\n",
    "X_train = []\n",
    "y_train = []\n",
    "for i in range(60, 1258):\n",
    "    X_train.append(training_set_scaled[i-60:i, 0])\n",
    "    y_train.append(training_set_scaled[i, 0])\n",
    "X_train, y_train = np.array(X_train), np.array(y_train)"
   ]
  },
  {
   "cell_type": "code",
   "execution_count": 20,
   "metadata": {
    "id": "b0qXUDx6DaFU"
   },
   "outputs": [],
   "source": [
    "## Rehaping the dataset\n",
    "X_train = np.reshape(X_train, (X_train.shape[0], X_train.shape[1], 1))"
   ]
  },
  {
   "cell_type": "markdown",
   "metadata": {
    "id": "L0A5ZEIKDtuH"
   },
   "source": [
    "###Building and Training the RNN"
   ]
  },
  {
   "cell_type": "code",
   "execution_count": 21,
   "metadata": {
    "id": "Ea1omICeD0Uy"
   },
   "outputs": [],
   "source": [
    "##Importing the Keras libraries and packages\n",
    "from keras.models import Sequential\n",
    "from keras.layers import Dense\n",
    "from keras.layers import LSTM\n",
    "from keras.layers import Dropout"
   ]
  },
  {
   "cell_type": "code",
   "execution_count": 23,
   "metadata": {
    "id": "_02fID0cEBrI"
   },
   "outputs": [],
   "source": [
    "#Initialising the RNN\n",
    "regressor = Sequential()"
   ]
  },
  {
   "cell_type": "code",
   "execution_count": 24,
   "metadata": {
    "id": "6JDBQCTGEGJz"
   },
   "outputs": [],
   "source": [
    "##Adding the first LSTM layer and some Dropout regularisation\n",
    "regressor.add(LSTM(units = 50, return_sequences = True, input_shape = (X_train.shape[1], 1)))\n",
    "regressor.add(Dropout(0.2))"
   ]
  },
  {
   "cell_type": "code",
   "execution_count": 25,
   "metadata": {
    "id": "uL7IX5HWEXVL"
   },
   "outputs": [],
   "source": [
    "##Adding a second LSTM layer and some Dropout regularisation\n",
    "regressor.add(LSTM(units = 50, return_sequences = True))\n",
    "regressor.add(Dropout(0.2))"
   ]
  },
  {
   "cell_type": "code",
   "execution_count": 26,
   "metadata": {
    "id": "eUB2M25lEgmz"
   },
   "outputs": [],
   "source": [
    "##Adding a third LSTM layer and some Dropout regularisation\n",
    "regressor.add(LSTM(units = 50, return_sequences = True))\n",
    "regressor.add(Dropout(0.2))"
   ]
  },
  {
   "cell_type": "code",
   "execution_count": 27,
   "metadata": {
    "id": "EDi30fsCEy0R"
   },
   "outputs": [],
   "source": [
    "##Adding a fourth LSTM layer and some Dropout regularisation\n",
    "regressor.add(LSTM(units = 50))\n",
    "regressor.add(Dropout(0.2))"
   ]
  },
  {
   "cell_type": "code",
   "execution_count": 28,
   "metadata": {
    "id": "Vf_bDfxiFAmK"
   },
   "outputs": [],
   "source": [
    "##Adding the output layer\n",
    "regressor.add(Dense(units = 1))"
   ]
  },
  {
   "cell_type": "code",
   "execution_count": 29,
   "metadata": {
    "id": "GRkDlzDNFPf_"
   },
   "outputs": [],
   "source": [
    "##Compiling the RNN\n",
    "regressor.compile(optimizer = 'adam', loss = 'mean_squared_error')"
   ]
  },
  {
   "cell_type": "code",
   "execution_count": 30,
   "metadata": {
    "colab": {
     "base_uri": "https://localhost:8080/"
    },
    "id": "EUnhria2FWK_",
    "outputId": "b2f8fe6c-96c1-4f7c-8db9-97d5f8ed4721"
   },
   "outputs": [
    {
     "name": "stdout",
     "output_type": "stream",
     "text": [
      "Epoch 1/100\n",
      "38/38 [==============================] - 10s 95ms/step - loss: 8.4408e-04\n",
      "Epoch 2/100\n",
      "38/38 [==============================] - 4s 96ms/step - loss: 8.0992e-05\n",
      "Epoch 3/100\n",
      "38/38 [==============================] - 4s 100ms/step - loss: 8.7127e-05\n",
      "Epoch 4/100\n",
      "38/38 [==============================] - 4s 100ms/step - loss: 7.4085e-05\n",
      "Epoch 5/100\n",
      "38/38 [==============================] - 4s 99ms/step - loss: 6.3620e-05\n",
      "Epoch 6/100\n",
      "38/38 [==============================] - 4s 100ms/step - loss: 6.4711e-05\n",
      "Epoch 7/100\n",
      "38/38 [==============================] - 4s 102ms/step - loss: 5.2277e-05\n",
      "Epoch 8/100\n",
      "38/38 [==============================] - 4s 105ms/step - loss: 4.6425e-05\n",
      "Epoch 9/100\n",
      "38/38 [==============================] - 4s 106ms/step - loss: 4.3142e-05\n",
      "Epoch 10/100\n",
      "38/38 [==============================] - 4s 99ms/step - loss: 5.2180e-05\n",
      "Epoch 11/100\n",
      "38/38 [==============================] - 4s 101ms/step - loss: 4.4485e-05\n",
      "Epoch 12/100\n",
      "38/38 [==============================] - 4s 106ms/step - loss: 5.3687e-05\n",
      "Epoch 13/100\n",
      "38/38 [==============================] - 4s 103ms/step - loss: 3.9689e-05\n",
      "Epoch 14/100\n",
      "38/38 [==============================] - 4s 103ms/step - loss: 6.2070e-05\n",
      "Epoch 15/100\n",
      "38/38 [==============================] - 4s 105ms/step - loss: 4.4136e-05\n",
      "Epoch 16/100\n",
      "38/38 [==============================] - 4s 105ms/step - loss: 4.8309e-05\n",
      "Epoch 17/100\n",
      "38/38 [==============================] - 4s 99ms/step - loss: 4.6701e-05\n",
      "Epoch 18/100\n",
      "38/38 [==============================] - 4s 102ms/step - loss: 3.6131e-05\n",
      "Epoch 19/100\n",
      "38/38 [==============================] - 4s 104ms/step - loss: 3.7644e-05\n",
      "Epoch 20/100\n",
      "38/38 [==============================] - 4s 103ms/step - loss: 3.6247e-05\n",
      "Epoch 21/100\n",
      "38/38 [==============================] - 4s 101ms/step - loss: 3.8502e-05\n",
      "Epoch 22/100\n",
      "38/38 [==============================] - 4s 102ms/step - loss: 3.5186e-05\n",
      "Epoch 23/100\n",
      "38/38 [==============================] - 4s 105ms/step - loss: 3.5649e-05\n",
      "Epoch 24/100\n",
      "38/38 [==============================] - 4s 103ms/step - loss: 3.4904e-05\n",
      "Epoch 25/100\n",
      "38/38 [==============================] - 4s 104ms/step - loss: 3.4850e-05\n",
      "Epoch 26/100\n",
      "38/38 [==============================] - 4s 102ms/step - loss: 3.9782e-05\n",
      "Epoch 27/100\n",
      "38/38 [==============================] - 4s 107ms/step - loss: 2.8752e-05\n",
      "Epoch 28/100\n",
      "38/38 [==============================] - 4s 102ms/step - loss: 3.7683e-05\n",
      "Epoch 29/100\n",
      "38/38 [==============================] - 4s 104ms/step - loss: 3.3903e-05\n",
      "Epoch 30/100\n",
      "38/38 [==============================] - 4s 104ms/step - loss: 3.2925e-05\n",
      "Epoch 31/100\n",
      "38/38 [==============================] - 4s 107ms/step - loss: 3.6387e-05\n",
      "Epoch 32/100\n",
      "38/38 [==============================] - 4s 104ms/step - loss: 3.5281e-05\n",
      "Epoch 33/100\n",
      "38/38 [==============================] - 4s 103ms/step - loss: 2.8087e-05\n",
      "Epoch 34/100\n",
      "38/38 [==============================] - 4s 103ms/step - loss: 3.0345e-05\n",
      "Epoch 35/100\n",
      "38/38 [==============================] - 4s 106ms/step - loss: 3.1739e-05\n",
      "Epoch 36/100\n",
      "38/38 [==============================] - 4s 101ms/step - loss: 3.4659e-05\n",
      "Epoch 37/100\n",
      "38/38 [==============================] - 4s 105ms/step - loss: 3.0614e-05\n",
      "Epoch 38/100\n",
      "38/38 [==============================] - 4s 104ms/step - loss: 3.2778e-05\n",
      "Epoch 39/100\n",
      "38/38 [==============================] - 4s 105ms/step - loss: 2.5452e-05\n",
      "Epoch 40/100\n",
      "38/38 [==============================] - 4s 107ms/step - loss: 2.9642e-05\n",
      "Epoch 41/100\n",
      "38/38 [==============================] - 4s 102ms/step - loss: 2.5234e-05\n",
      "Epoch 42/100\n",
      "38/38 [==============================] - 4s 104ms/step - loss: 2.8344e-05\n",
      "Epoch 43/100\n",
      "38/38 [==============================] - 4s 106ms/step - loss: 2.7525e-05\n",
      "Epoch 44/100\n",
      "38/38 [==============================] - 4s 105ms/step - loss: 4.3649e-05\n",
      "Epoch 45/100\n",
      "38/38 [==============================] - 4s 101ms/step - loss: 2.8331e-05\n",
      "Epoch 46/100\n",
      "38/38 [==============================] - 4s 104ms/step - loss: 2.6870e-05\n",
      "Epoch 47/100\n",
      "38/38 [==============================] - 4s 104ms/step - loss: 2.3990e-05\n",
      "Epoch 48/100\n",
      "38/38 [==============================] - 4s 106ms/step - loss: 2.5022e-05\n",
      "Epoch 49/100\n",
      "38/38 [==============================] - 4s 101ms/step - loss: 3.4057e-05\n",
      "Epoch 50/100\n",
      "38/38 [==============================] - 4s 103ms/step - loss: 2.3066e-05\n",
      "Epoch 51/100\n",
      "38/38 [==============================] - 4s 103ms/step - loss: 2.3586e-05\n",
      "Epoch 52/100\n",
      "38/38 [==============================] - 4s 102ms/step - loss: 2.6343e-05\n",
      "Epoch 53/100\n",
      "38/38 [==============================] - 4s 105ms/step - loss: 2.5626e-05\n",
      "Epoch 54/100\n",
      "38/38 [==============================] - 4s 104ms/step - loss: 2.8153e-05\n",
      "Epoch 55/100\n",
      "38/38 [==============================] - 4s 106ms/step - loss: 3.3627e-05\n",
      "Epoch 56/100\n",
      "38/38 [==============================] - 4s 104ms/step - loss: 2.8242e-05\n",
      "Epoch 57/100\n",
      "38/38 [==============================] - 4s 106ms/step - loss: 2.9411e-05\n",
      "Epoch 58/100\n",
      "38/38 [==============================] - 4s 103ms/step - loss: 3.4579e-05\n",
      "Epoch 59/100\n",
      "38/38 [==============================] - 4s 104ms/step - loss: 2.7977e-05\n",
      "Epoch 60/100\n",
      "38/38 [==============================] - 4s 105ms/step - loss: 2.4199e-05\n",
      "Epoch 61/100\n",
      "38/38 [==============================] - 4s 101ms/step - loss: 2.5275e-05\n",
      "Epoch 62/100\n",
      "38/38 [==============================] - 4s 104ms/step - loss: 2.2300e-05\n",
      "Epoch 63/100\n",
      "38/38 [==============================] - 4s 104ms/step - loss: 2.9866e-05\n",
      "Epoch 64/100\n",
      "38/38 [==============================] - 4s 105ms/step - loss: 2.4260e-05\n",
      "Epoch 65/100\n",
      "38/38 [==============================] - 4s 105ms/step - loss: 2.1790e-05\n",
      "Epoch 66/100\n",
      "38/38 [==============================] - 4s 103ms/step - loss: 2.4436e-05\n",
      "Epoch 67/100\n",
      "38/38 [==============================] - 4s 104ms/step - loss: 2.3755e-05\n",
      "Epoch 68/100\n",
      "38/38 [==============================] - 4s 102ms/step - loss: 2.3050e-05\n",
      "Epoch 69/100\n",
      "38/38 [==============================] - 4s 100ms/step - loss: 2.4460e-05\n",
      "Epoch 70/100\n",
      "38/38 [==============================] - 4s 102ms/step - loss: 2.2358e-05\n",
      "Epoch 71/100\n",
      "38/38 [==============================] - 4s 105ms/step - loss: 2.1435e-05\n",
      "Epoch 72/100\n",
      "38/38 [==============================] - 4s 104ms/step - loss: 2.2435e-05\n",
      "Epoch 73/100\n",
      "38/38 [==============================] - 4s 104ms/step - loss: 2.3435e-05\n",
      "Epoch 74/100\n",
      "38/38 [==============================] - 4s 104ms/step - loss: 2.8153e-05\n",
      "Epoch 75/100\n",
      "38/38 [==============================] - 4s 104ms/step - loss: 2.1636e-05\n",
      "Epoch 76/100\n",
      "38/38 [==============================] - 4s 106ms/step - loss: 2.3987e-05\n",
      "Epoch 77/100\n",
      "38/38 [==============================] - 4s 103ms/step - loss: 2.8084e-05\n",
      "Epoch 78/100\n",
      "38/38 [==============================] - 4s 106ms/step - loss: 2.3898e-05\n",
      "Epoch 79/100\n",
      "38/38 [==============================] - 4s 105ms/step - loss: 2.7818e-05\n",
      "Epoch 80/100\n",
      "38/38 [==============================] - 4s 104ms/step - loss: 2.2137e-05\n",
      "Epoch 81/100\n",
      "38/38 [==============================] - 4s 102ms/step - loss: 2.3878e-05\n",
      "Epoch 82/100\n",
      "38/38 [==============================] - 4s 104ms/step - loss: 2.0460e-05\n",
      "Epoch 83/100\n",
      "38/38 [==============================] - 4s 101ms/step - loss: 1.9859e-05\n",
      "Epoch 84/100\n",
      "38/38 [==============================] - 4s 104ms/step - loss: 2.2042e-05\n",
      "Epoch 85/100\n",
      "38/38 [==============================] - 4s 102ms/step - loss: 2.8485e-05\n",
      "Epoch 86/100\n",
      "38/38 [==============================] - 4s 101ms/step - loss: 2.1747e-05\n",
      "Epoch 87/100\n",
      "38/38 [==============================] - 4s 106ms/step - loss: 2.0779e-05\n",
      "Epoch 88/100\n",
      "38/38 [==============================] - 4s 104ms/step - loss: 2.1857e-05\n",
      "Epoch 89/100\n",
      "38/38 [==============================] - 4s 102ms/step - loss: 1.9339e-05\n",
      "Epoch 90/100\n",
      "38/38 [==============================] - 4s 104ms/step - loss: 2.2489e-05\n",
      "Epoch 91/100\n",
      "38/38 [==============================] - 4s 98ms/step - loss: 1.9828e-05\n",
      "Epoch 92/100\n",
      "38/38 [==============================] - 4s 104ms/step - loss: 2.0802e-05\n",
      "Epoch 93/100\n",
      "38/38 [==============================] - 4s 105ms/step - loss: 2.0432e-05\n",
      "Epoch 94/100\n",
      "38/38 [==============================] - 4s 101ms/step - loss: 2.1521e-05\n",
      "Epoch 95/100\n",
      "38/38 [==============================] - 4s 103ms/step - loss: 2.0396e-05\n",
      "Epoch 96/100\n",
      "38/38 [==============================] - 4s 104ms/step - loss: 2.0369e-05\n",
      "Epoch 97/100\n",
      "38/38 [==============================] - 4s 103ms/step - loss: 2.2690e-05\n",
      "Epoch 98/100\n",
      "38/38 [==============================] - 4s 104ms/step - loss: 2.3744e-05\n",
      "Epoch 99/100\n",
      "38/38 [==============================] - 4s 103ms/step - loss: 3.7259e-05\n",
      "Epoch 100/100\n",
      "38/38 [==============================] - 4s 105ms/step - loss: 1.9127e-05\n"
     ]
    },
    {
     "data": {
      "text/plain": [
       "<tensorflow.python.keras.callbacks.History at 0x7f903f002b10>"
      ]
     },
     "execution_count": 30,
     "metadata": {
      "tags": []
     },
     "output_type": "execute_result"
    }
   ],
   "source": [
    "###Fitting the RNN to the Training set\n",
    "regressor.fit(X_train, y_train, epochs = 100, batch_size = 32)"
   ]
  },
  {
   "cell_type": "code",
   "execution_count": null,
   "metadata": {
    "id": "5LSz1Zo3Ffd2"
   },
   "outputs": [],
   "source": []
  },
  {
   "cell_type": "markdown",
   "metadata": {
    "id": "zXhQMw3XGLil"
   },
   "source": [
    "###Making the predictions and visualising the results"
   ]
  },
  {
   "cell_type": "code",
   "execution_count": 32,
   "metadata": {
    "id": "qyhSkt1-GRLZ"
   },
   "outputs": [],
   "source": [
    "##Getting the predicted stock price\n",
    "dataset_total=dataset[\"Open\"]\n",
    "inputs = dataset_total[len(dataset_total) - len(testing_set) - 60:].values\n",
    "inputs = inputs.reshape(-1,1)\n",
    "inputs = sc.transform(inputs)\n",
    "X_test = []\n",
    "for i in range(60, 120):\n",
    "    X_test.append(inputs[i-60:i, 0])\n",
    "X_test = np.array(X_test)\n",
    "X_test = np.reshape(X_test, (X_test.shape[0], X_test.shape[1], 1))\n",
    "predicted_stock_price = regressor.predict(X_test)\n",
    "predicted_stock_price = sc.inverse_transform(predicted_stock_price)"
   ]
  },
  {
   "cell_type": "code",
   "execution_count": 33,
   "metadata": {
    "colab": {
     "base_uri": "https://localhost:8080/",
     "height": 295
    },
    "id": "-ay0AC71JVWn",
    "outputId": "1fabbecb-a883-49bd-f66f-12ee11be674b"
   },
   "outputs": [
    {
     "data": {
      "image/png": "[encoded data removed]",
      "text/plain": [
       "<Figure size 432x288 with 1 Axes>"
      ]
     },
     "metadata": {
      "needs_background": "light",
      "tags": []
     },
     "output_type": "display_data"
    }
   ],
   "source": [
    "##Visualising the results\n",
    "real_stock_price=dataset.iloc[3793:, 1:2].values\n",
    "plt.plot(real_stock_price, color = 'red', label = 'Real ABC Stock Price')\n",
    "plt.plot(predicted_stock_price, color = 'blue', label = 'Predicted ABC Stock Price')\n",
    "plt.title('ABC Stock Price Prediction')\n",
    "plt.xlabel('Time')\n",
    "plt.ylabel('ABC Stock Price')\n",
    "plt.legend()\n",
    "plt.show()"
   ]
  },
  {
   "cell_type": "code",
   "execution_count": 35,
   "metadata": {
    "colab": {
     "base_uri": "https://localhost:8080/"
    },
    "id": "_wD8oT22KHv0",
    "outputId": "0a99d053-01c6-49a0-bd13-7f2f100ab95a"
   },
   "outputs": [
    {
     "name": "stdout",
     "output_type": "stream",
     "text": [
      " Root mean Square Error 34.26245741348225\n"
     ]
    }
   ],
   "source": [
    "##Calculating RMSE\n",
    "import math\n",
    "from sklearn.metrics import mean_squared_error\n",
    "rmse = math.sqrt(mean_squared_error(real_stock_price, predicted_stock_price))\n",
    "print(\" Root mean Square Error\",rmse)"
   ]
  },
  {
   "cell_type": "code",
   "execution_count": null,
   "metadata": {
    "id": "g7ogS--bLBiN"
   },
   "outputs": [],
   "source": []
  }
 ],
 "metadata": {
  "colab": {
   "name": "ABCstockprice prediction.ipynb",
   "provenance": []
  },
  "kernelspec": {
   "display_name": "Python 3",
   "language": "python",
   "name": "python3"
  },
  "language_info": {
   "codemirror_mode": {
    "name": "ipython",
    "version": 3
   },
   "file_extension": ".py",
   "mimetype": "text/x-python",
   "name": "python",
   "nbconvert_exporter": "python",
   "pygments_lexer": "ipython3",
   "version": "3.8.5"
  }
 },
 "nbformat": 4,
 "nbformat_minor": 1
}
